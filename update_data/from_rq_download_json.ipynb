{
 "cells": [
  {
   "cell_type": "code",
   "execution_count": null,
   "metadata": {},
   "outputs": [],
   "source": [
    "import traceback\n",
    "import socket\n",
    "from opendatatools import futures\n",
    "from datetime import datetime, timedelta\n",
    "from typing import Optional, Sequence, List\n",
    "from rpc.client import RpcClient\n",
    "from rpc.utility import INTERVAL_ADJUSTMENT_MAP\n",
    "from rpc.utility import get_duration, extract_vt_symbol, to_rq_symbol, handle_df, load_json\n",
    "\n",
    "\n",
    "def get_server_setting():\n",
    "    setting = load_json(\"setting.json\")\n",
    "    return setting\n",
    "\n",
    "\n",
    "def get_downloaded_data(file):\n",
    "    data = load_json(file)\n",
    "    return data\n",
    "\n",
    "\n",
    "def init_client(host: str, port: int, authkey: bytes):\n",
    "    client = RpcClient(host, port, authkey)\n",
    "    client.connect()\n",
    "    return client\n",
    "\n",
    "\n",
    "def get_update_symbol(client: RpcClient) -> List:\n",
    "    symbols = client.get_update_symbol()\n",
    "    print(\"待更新的合约列表获取成功：\")\n",
    "    print(symbols)\n",
    "    return symbols\n",
    "\n",
    "\n",
    "def save_all_data(client: RpcClient, downloaded_data: dict):\n",
    "    for vt_symbol, value in downloaded_data.items():\n",
    "        source_interval = value['rq_interval']\n",
    "        data_dict = value['data']\n",
    "        client.save_to_database(data_dict, vt_symbol, source_interval)\n",
    "        print(f\"{vt_symbol}合约数据保存成功\")\n",
    "        \n",
    "\n",
    "setting = get_server_setting()\n",
    "host_home = '192.168.0.107' if setting['is_at_home'] else setting['host_home']\n",
    "host_tencent = setting['host_cloud']\n",
    "port = setting['port']\n",
    "authkey = setting['authkey'].encode('ascii')\n",
    "source_interval = \"60m\""
   ]
  },
  {
   "cell_type": "code",
   "execution_count": null,
   "metadata": {},
   "outputs": [],
   "source": [
    "# 从服务器获取需要更新的合约列表\n",
    "def get_symbols_from_server():   \n",
    "    symbols = set()\n",
    "    client_home = init_client(host_home, port, authkey)\n",
    "    if client_home:\n",
    "        home_symbols = get_update_symbol(client_home)\n",
    "        symbols.update(set(home_symbols))\n",
    "        client_home.close()\n",
    "\n",
    "    client_tencent = init_client(host_tencent, port, authkey)\n",
    "    if client_tencent:\n",
    "        tencent_symbols = get_update_symbol(client_tencent)\n",
    "        symbols.update(set(tencent_symbols))\n",
    "        client_tencent.close()\n",
    "        \n",
    "    print(symbols)\n",
    "    return symbols\n",
    "\n",
    "get_symbols_from_server()"
   ]
  },
  {
   "cell_type": "code",
   "execution_count": null,
   "metadata": {},
   "outputs": [],
   "source": [
    "# 将下载完成的K线数据推送到服务器\n",
    "def push_data_to_server():\n",
    "    data = get_downloaded_data('daily_update_bars.json')\n",
    "    \n",
    "    client_home = init_client(host_home, port, authkey)\n",
    "    if client_home:\n",
    "        save_all_data(client_home, data)\n",
    "        client_home.close()\n",
    "    client_tencent = init_client(host_tencent, port, authkey)\n",
    "    if client_tencent:\n",
    "        save_all_data(client_tencent, data)\n",
    "        client_tencent.close()\n",
    "        \n",
    "    return client_home, client_tencent\n",
    "\n",
    "push_data_to_server()"
   ]
  },
  {
   "cell_type": "code",
   "execution_count": null,
   "metadata": {},
   "outputs": [],
   "source": [
    "# 更新一般数据到物理服务器\n",
    "def push_data_to_server():\n",
    "    data = get_downloaded_data('data/000905.SSE_1d.json')\n",
    "    \n",
    "    client_home = init_client(host_home, port, authkey)\n",
    "    if client_home:\n",
    "        save_all_data(client_home, data)\n",
    "        client_home.close()        \n",
    "    return client_home\n",
    "\n",
    "push_data_to_server()"
   ]
  },
  {
   "cell_type": "code",
   "execution_count": null,
   "metadata": {},
   "outputs": [],
   "source": []
  }
 ],
 "metadata": {
  "kernelspec": {
   "display_name": "Python 3",
   "language": "python",
   "name": "python3"
  },
  "language_info": {
   "codemirror_mode": {
    "name": "ipython",
    "version": 3
   },
   "file_extension": ".py",
   "mimetype": "text/x-python",
   "name": "python",
   "nbconvert_exporter": "python",
   "pygments_lexer": "ipython3",
   "version": "3.7.1"
  }
 },
 "nbformat": 4,
 "nbformat_minor": 2
}
